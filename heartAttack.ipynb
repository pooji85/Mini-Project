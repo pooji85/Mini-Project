{
 "cells": [
  {
   "cell_type": "code",
   "execution_count": 1,
   "id": "63c82717",
   "metadata": {},
   "outputs": [],
   "source": [
    "import pandas as pd\n",
    "import numpy as np"
   ]
  },
  {
   "cell_type": "code",
   "execution_count": 2,
   "id": "f70b35ca",
   "metadata": {},
   "outputs": [],
   "source": [
    "# Load the dataset\n",
    "data = pd.read_csv('heart.csv')"
   ]
  },
  {
   "cell_type": "code",
   "execution_count": 3,
   "id": "0192c6d7",
   "metadata": {},
   "outputs": [
    {
     "data": {
      "text/html": [
       "<div>\n",
       "<style scoped>\n",
       "    .dataframe tbody tr th:only-of-type {\n",
       "        vertical-align: middle;\n",
       "    }\n",
       "\n",
       "    .dataframe tbody tr th {\n",
       "        vertical-align: top;\n",
       "    }\n",
       "\n",
       "    .dataframe thead th {\n",
       "        text-align: right;\n",
       "    }\n",
       "</style>\n",
       "<table border=\"1\" class=\"dataframe\">\n",
       "  <thead>\n",
       "    <tr style=\"text-align: right;\">\n",
       "      <th></th>\n",
       "      <th>Age</th>\n",
       "      <th>Sex</th>\n",
       "      <th>ChestPainType</th>\n",
       "      <th>RestingBP</th>\n",
       "      <th>Cholesterol</th>\n",
       "      <th>FastingBS</th>\n",
       "      <th>RestingECG</th>\n",
       "      <th>MaxHR</th>\n",
       "      <th>ExerciseAngina</th>\n",
       "      <th>Oldpeak</th>\n",
       "      <th>ST_Slope</th>\n",
       "      <th>HeartDisease</th>\n",
       "    </tr>\n",
       "  </thead>\n",
       "  <tbody>\n",
       "    <tr>\n",
       "      <th>0</th>\n",
       "      <td>40</td>\n",
       "      <td>M</td>\n",
       "      <td>ATA</td>\n",
       "      <td>140</td>\n",
       "      <td>289</td>\n",
       "      <td>0</td>\n",
       "      <td>Normal</td>\n",
       "      <td>172</td>\n",
       "      <td>N</td>\n",
       "      <td>0.0</td>\n",
       "      <td>Up</td>\n",
       "      <td>0</td>\n",
       "    </tr>\n",
       "    <tr>\n",
       "      <th>1</th>\n",
       "      <td>49</td>\n",
       "      <td>F</td>\n",
       "      <td>NAP</td>\n",
       "      <td>160</td>\n",
       "      <td>180</td>\n",
       "      <td>0</td>\n",
       "      <td>Normal</td>\n",
       "      <td>156</td>\n",
       "      <td>N</td>\n",
       "      <td>1.0</td>\n",
       "      <td>Flat</td>\n",
       "      <td>1</td>\n",
       "    </tr>\n",
       "    <tr>\n",
       "      <th>2</th>\n",
       "      <td>37</td>\n",
       "      <td>M</td>\n",
       "      <td>ATA</td>\n",
       "      <td>130</td>\n",
       "      <td>283</td>\n",
       "      <td>0</td>\n",
       "      <td>ST</td>\n",
       "      <td>98</td>\n",
       "      <td>N</td>\n",
       "      <td>0.0</td>\n",
       "      <td>Up</td>\n",
       "      <td>0</td>\n",
       "    </tr>\n",
       "    <tr>\n",
       "      <th>3</th>\n",
       "      <td>48</td>\n",
       "      <td>F</td>\n",
       "      <td>ASY</td>\n",
       "      <td>138</td>\n",
       "      <td>214</td>\n",
       "      <td>0</td>\n",
       "      <td>Normal</td>\n",
       "      <td>108</td>\n",
       "      <td>Y</td>\n",
       "      <td>1.5</td>\n",
       "      <td>Flat</td>\n",
       "      <td>1</td>\n",
       "    </tr>\n",
       "    <tr>\n",
       "      <th>4</th>\n",
       "      <td>54</td>\n",
       "      <td>M</td>\n",
       "      <td>NAP</td>\n",
       "      <td>150</td>\n",
       "      <td>195</td>\n",
       "      <td>0</td>\n",
       "      <td>Normal</td>\n",
       "      <td>122</td>\n",
       "      <td>N</td>\n",
       "      <td>0.0</td>\n",
       "      <td>Up</td>\n",
       "      <td>0</td>\n",
       "    </tr>\n",
       "  </tbody>\n",
       "</table>\n",
       "</div>"
      ],
      "text/plain": [
       "   Age Sex ChestPainType  RestingBP  Cholesterol  FastingBS RestingECG  MaxHR  \\\n",
       "0   40   M           ATA        140          289          0     Normal    172   \n",
       "1   49   F           NAP        160          180          0     Normal    156   \n",
       "2   37   M           ATA        130          283          0         ST     98   \n",
       "3   48   F           ASY        138          214          0     Normal    108   \n",
       "4   54   M           NAP        150          195          0     Normal    122   \n",
       "\n",
       "  ExerciseAngina  Oldpeak ST_Slope  HeartDisease  \n",
       "0              N      0.0       Up             0  \n",
       "1              N      1.0     Flat             1  \n",
       "2              N      0.0       Up             0  \n",
       "3              Y      1.5     Flat             1  \n",
       "4              N      0.0       Up             0  "
      ]
     },
     "execution_count": 3,
     "metadata": {},
     "output_type": "execute_result"
    }
   ],
   "source": [
    "data.head()"
   ]
  },
  {
   "cell_type": "code",
   "execution_count": 4,
   "id": "3eb312cc",
   "metadata": {},
   "outputs": [
    {
     "data": {
      "text/plain": [
       "(918, 12)"
      ]
     },
     "execution_count": 4,
     "metadata": {},
     "output_type": "execute_result"
    }
   ],
   "source": [
    "data.shape"
   ]
  },
  {
   "cell_type": "code",
   "execution_count": 5,
   "id": "8a0be7b3",
   "metadata": {},
   "outputs": [
    {
     "data": {
      "text/plain": [
       "Index(['Age', 'Sex', 'ChestPainType', 'RestingBP', 'Cholesterol', 'FastingBS',\n",
       "       'RestingECG', 'MaxHR', 'ExerciseAngina', 'Oldpeak', 'ST_Slope',\n",
       "       'HeartDisease'],\n",
       "      dtype='object')"
      ]
     },
     "execution_count": 5,
     "metadata": {},
     "output_type": "execute_result"
    }
   ],
   "source": [
    "data.columns"
   ]
  },
  {
   "cell_type": "code",
   "execution_count": 6,
   "id": "e0153be4",
   "metadata": {},
   "outputs": [
    {
     "name": "stdout",
     "output_type": "stream",
     "text": [
      "<class 'pandas.core.frame.DataFrame'>\n",
      "RangeIndex: 918 entries, 0 to 917\n",
      "Data columns (total 12 columns):\n",
      " #   Column          Non-Null Count  Dtype  \n",
      "---  ------          --------------  -----  \n",
      " 0   Age             918 non-null    int64  \n",
      " 1   Sex             918 non-null    object \n",
      " 2   ChestPainType   918 non-null    object \n",
      " 3   RestingBP       918 non-null    int64  \n",
      " 4   Cholesterol     918 non-null    int64  \n",
      " 5   FastingBS       918 non-null    int64  \n",
      " 6   RestingECG      918 non-null    object \n",
      " 7   MaxHR           918 non-null    int64  \n",
      " 8   ExerciseAngina  918 non-null    object \n",
      " 9   Oldpeak         918 non-null    float64\n",
      " 10  ST_Slope        918 non-null    object \n",
      " 11  HeartDisease    918 non-null    int64  \n",
      "dtypes: float64(1), int64(6), object(5)\n",
      "memory usage: 86.2+ KB\n"
     ]
    }
   ],
   "source": [
    "data.info()"
   ]
  },
  {
   "cell_type": "code",
   "execution_count": 7,
   "id": "b038afe1",
   "metadata": {},
   "outputs": [
    {
     "data": {
      "text/plain": [
       "Age               0\n",
       "Sex               0\n",
       "ChestPainType     0\n",
       "RestingBP         0\n",
       "Cholesterol       0\n",
       "FastingBS         0\n",
       "RestingECG        0\n",
       "MaxHR             0\n",
       "ExerciseAngina    0\n",
       "Oldpeak           0\n",
       "ST_Slope          0\n",
       "HeartDisease      0\n",
       "dtype: int64"
      ]
     },
     "execution_count": 7,
     "metadata": {},
     "output_type": "execute_result"
    }
   ],
   "source": [
    "data.isnull().sum()"
   ]
  },
  {
   "cell_type": "markdown",
   "id": "f57a1e5b",
   "metadata": {},
   "source": [
    "# Data Preprocessing"
   ]
  },
  {
   "cell_type": "code",
   "execution_count": 8,
   "id": "5048ac98",
   "metadata": {},
   "outputs": [
    {
     "name": "stdout",
     "output_type": "stream",
     "text": [
      "Encoding for Sex: {'F': 0, 'M': 1}\n",
      "Encoding for ChestPainType: {'ASY': 0, 'ATA': 1, 'NAP': 2, 'TA': 3}\n",
      "Encoding for ExerciseAngina: {'N': 0, 'Y': 1}\n",
      "Encoding for RestingECG: {'LVH': 0, 'Normal': 1, 'ST': 2}\n",
      "Encoding for ST_Slope: {'Down': 0, 'Flat': 1, 'Up': 2}\n",
      "   Age  Sex  ChestPainType  RestingBP  Cholesterol  FastingBS  RestingECG  \\\n",
      "0   40    1              1        140          289          0           1   \n",
      "1   49    0              2        160          180          0           1   \n",
      "2   37    1              1        130          283          0           2   \n",
      "3   48    0              0        138          214          0           1   \n",
      "4   54    1              2        150          195          0           1   \n",
      "\n",
      "   MaxHR  ExerciseAngina  Oldpeak  ST_Slope  HeartDisease  \n",
      "0    172               0      0.0         2             0  \n",
      "1    156               0      1.0         1             1  \n",
      "2     98               0      0.0         2             0  \n",
      "3    108               1      1.5         1             1  \n",
      "4    122               0      0.0         2             0  \n"
     ]
    }
   ],
   "source": [
    "from sklearn.preprocessing import LabelEncoder\n",
    "\n",
    "# Initialize the LabelEncoder\n",
    "label_encoder = LabelEncoder()\n",
    "\n",
    "# Dictionary to store mappings\n",
    "encodings = {}\n",
    "\n",
    "# Label encode categorical features\n",
    "for column in ['Sex', 'ChestPainType', 'ExerciseAngina', 'RestingECG', 'ST_Slope']:\n",
    "    data[column] = label_encoder.fit_transform(data[column])\n",
    "    # Store the mappings\n",
    "    encodings[column] = dict(zip(label_encoder.classes_, label_encoder.transform(label_encoder.classes_)))\n",
    "\n",
    "# Verify the encoding mappings\n",
    "for column, mapping in encodings.items():\n",
    "    print(f\"Encoding for {column}: {mapping}\")\n",
    "\n",
    "# Check the transformed data\n",
    "print(data.head())\n"
   ]
  },
  {
   "cell_type": "code",
   "execution_count": 9,
   "id": "28970bda",
   "metadata": {},
   "outputs": [],
   "source": [
    "# Separate features and target\n",
    "X = data.drop(columns=['HeartDisease'])\n",
    "y = data['HeartDisease']"
   ]
  },
  {
   "cell_type": "code",
   "execution_count": 10,
   "id": "ce78c26c",
   "metadata": {},
   "outputs": [],
   "source": [
    "from sklearn.compose import ColumnTransformer\n",
    "from sklearn.preprocessing import StandardScaler\n",
    "from sklearn.pipeline import Pipeline\n",
    "from sklearn.impute import SimpleImputer\n",
    "\n",
    "numeric_features = ['Age', 'RestingBP', 'Cholesterol', 'FastingBS', 'MaxHR', 'Oldpeak']\n",
    "categorical_features = ['Sex', 'ChestPainType', 'RestingECG', 'ExerciseAngina', 'ST_Slope']\n",
    "\n",
    "# Create pipelines for preprocessing\n",
    "numeric_transformer = Pipeline(steps=[\n",
    "    ('imputer', SimpleImputer(strategy='mean')),  # Handle missing values\n",
    "    ('scaler', StandardScaler())                 # Standardize numerical features\n",
    "])\n",
    "\n",
    "# Combine pipelines into a preprocessor\n",
    "preprocessor = ColumnTransformer(\n",
    "    transformers=[\n",
    "        ('num', numeric_transformer, numeric_features),\n",
    "        ('cat', 'passthrough', categorical_features)  # Categorical features are already label-encoded\n",
    "    ]\n",
    ")\n",
    "\n",
    "# Apply preprocessing to all features\n",
    "X_preprocessed = preprocessor.fit_transform(X)\n"
   ]
  },
  {
   "cell_type": "code",
   "execution_count": 11,
   "id": "b2671026",
   "metadata": {},
   "outputs": [],
   "source": [
    "from sklearn.model_selection import train_test_split\n",
    "\n",
    "X_train, X_test, y_train, y_test = train_test_split(X_preprocessed, y, test_size=0.2, random_state=42)"
   ]
  },
  {
   "cell_type": "markdown",
   "id": "7ea01ea1",
   "metadata": {},
   "source": [
    "# Exploratory Data Analysis (EDA)"
   ]
  },
  {
   "cell_type": "code",
   "execution_count": 12,
   "id": "79254627",
   "metadata": {},
   "outputs": [
    {
     "data": {
      "image/png": "[encoded data removed]",
      "text/plain": [
       "<Figure size 432x288 with 1 Axes>"
      ]
     },
     "metadata": {
      "needs_background": "light"
     },
     "output_type": "display_data"
    }
   ],
   "source": [
    "import matplotlib.pyplot as plt\n",
    "import seaborn as sns\n",
    "# Distribution of target variable (HeartDisease)\n",
    "sns.countplot(x='HeartDisease', data=data)\n",
    "plt.title('Distribution of Heart Disease')\n",
    "plt.show()"
   ]
  },
  {
   "cell_type": "code",
   "execution_count": 13,
   "id": "69ef8b19",
   "metadata": {},
   "outputs": [
    {
     "data": {
      "image/png": "[encoded data removed]",
      "text/plain": [
       "<Figure size 720x576 with 2 Axes>"
      ]
     },
     "metadata": {
      "needs_background": "light"
     },
     "output_type": "display_data"
    }
   ],
   "source": [
    "# Correlation heatmap for numerical features\n",
    "plt.figure(figsize=(10, 8))\n",
    "sns.heatmap(data.corr(), annot=True, cmap='coolwarm')\n",
    "plt.title(\"Correlation Heatmap\")\n",
    "plt.show()"
   ]
  },
  {
   "cell_type": "code",
   "execution_count": 14,
   "id": "3d3b8a9c",
   "metadata": {},
   "outputs": [
    {
     "data": {
      "image/png": "[encoded data removed]",
      "text/plain": [
       "<Figure size 1080x720 with 1 Axes>"
      ]
     },
     "metadata": {
      "needs_background": "light"
     },
     "output_type": "display_data"
    }
   ],
   "source": [
    "# Boxplot for numerical features\n",
    "plt.figure(figsize=(15, 10))\n",
    "sns.boxplot(data=data[['Age', 'RestingBP', 'Cholesterol', 'MaxHR', 'Oldpeak']])\n",
    "plt.title('Boxplot of Numeric Features')\n",
    "plt.show()"
   ]
  },
  {
   "cell_type": "markdown",
   "id": "6844321b",
   "metadata": {},
   "source": [
    "# Feature Optimization"
   ]
  },
  {
   "cell_type": "code",
   "execution_count": 15,
   "id": "a1c3e7e6",
   "metadata": {},
   "outputs": [],
   "source": [
    "# Apply SelectKBest\n",
    "from sklearn.feature_selection import SelectKBest, mutual_info_classif\n",
    "from sklearn.metrics import f1_score\n",
    "\n",
    "f1_scores = []\n",
    "\n",
    "# Try different values of k (number of features) to identify the optimal number\n",
    "for k in range(1, X_train.shape[1] + 1):\n",
    "    # Select top k features using mutual information\n",
    "    selector = SelectKBest(mutual_info_classif, k=k)\n",
    "    X_train_selected = selector.fit_transform(X_train, y_train)\n",
    "    X_test_selected = selector.transform(X_test)\n",
    "\n",
    "    # Train a basic logistic regression model for comparison\n",
    "    from sklearn.linear_model import LogisticRegression\n",
    "    model = LogisticRegression()\n",
    "    model.fit(X_train_selected, y_train)\n",
    "\n",
    "    # Predict on the test set\n",
    "    y_pred = model.predict(X_test_selected)\n",
    "\n",
    "    # Calculate weighted F1-score\n",
    "    score = f1_score(y_test, y_pred, average='weighted')\n",
    "    f1_scores.append(score)"
   ]
  },
  {
   "cell_type": "code",
   "execution_count": 16,
   "id": "bdc1ce4d",
   "metadata": {},
   "outputs": [
    {
     "data": {
      "image/png": "[encoded data removed]",
      "text/plain": [
       "<Figure size 720x432 with 1 Axes>"
      ]
     },
     "metadata": {
      "needs_background": "light"
     },
     "output_type": "display_data"
    },
    {
     "name": "stdout",
     "output_type": "stream",
     "text": [
      "Optimal number of features: 8\n"
     ]
    }
   ],
   "source": [
    "# Plot F1-Score vs. Number of Features\n",
    "plt.figure(figsize=(10, 6))\n",
    "plt.plot(range(1, X_train.shape[1] + 1), f1_scores, marker='o')\n",
    "plt.title(\"Feature Selection: F1-Score vs. Number of Features\")\n",
    "plt.xlabel(\"Number of Features (k)\")\n",
    "plt.ylabel(\"Weighted F1-Score\")\n",
    "plt.grid(True)\n",
    "plt.show()\n",
    "\n",
    "# Find the best k based on maximum F1-score\n",
    "optimal_k = f1_scores.index(max(f1_scores)) + 1\n",
    "print(f\"Optimal number of features: {optimal_k}\")"
   ]
  },
  {
   "cell_type": "code",
   "execution_count": 17,
   "id": "77ebe41d",
   "metadata": {},
   "outputs": [
    {
     "name": "stdout",
     "output_type": "stream",
     "text": [
      "Selected Features: ['Age', 'Cholesterol', 'MaxHR', 'Oldpeak', 'Sex', 'ChestPainType', 'ExerciseAngina', 'ST_Slope']\n"
     ]
    }
   ],
   "source": [
    "# Apply SelectKBest with the optimal number of features\n",
    "selector = SelectKBest(mutual_info_classif, k=optimal_k)\n",
    "X_train_selected = selector.fit_transform(X_train, y_train)\n",
    "X_test_selected = selector.transform(X_test)\n",
    "\n",
    "# Retrieve selected feature names\n",
    "selected_feature_names = []\n",
    "selected_feature_names.extend(\n",
    "    [numeric_features[i] for i, selected in enumerate(selector.get_support()[:len(numeric_features)]) if selected]\n",
    ")\n",
    "selected_feature_names.extend(\n",
    "    [categorical_features[i] for i, selected in enumerate(selector.get_support()[len(numeric_features):]) if selected]\n",
    ")\n",
    "\n",
    "print(\"Selected Features:\", selected_feature_names)"
   ]
  },
  {
   "cell_type": "code",
   "execution_count": 18,
   "id": "0770b91e",
   "metadata": {},
   "outputs": [
    {
     "name": "stdout",
     "output_type": "stream",
     "text": [
      "X_train shape: (734, 8)\n",
      "X_test shape: (184, 8)\n"
     ]
    }
   ],
   "source": [
    "# Rebuild ColumnTransformer with selected features\n",
    "updated_preprocessor = ColumnTransformer([\n",
    "    ('num', numeric_transformer, [f for f in numeric_features if f in selected_feature_names]),\n",
    "    ('cat', 'passthrough', [f for f in categorical_features if f in selected_feature_names])\n",
    "])\n",
    "\n",
    "# Preprocess the data again using the updated transformer\n",
    "X_final = updated_preprocessor.fit_transform(X)\n",
    "\n",
    "# Perform a new train-test split with the reduced features\n",
    "X_train, X_test, y_train, y_test = train_test_split(X_final, y, test_size=0.2, random_state=42)\n",
    "\n",
    "# Display shapes of updated datasets\n",
    "print(f\"X_train shape: {X_train.shape}\")\n",
    "print(f\"X_test shape: {X_test.shape}\")\n"
   ]
  },
  {
   "cell_type": "markdown",
   "id": "9d35a783",
   "metadata": {},
   "source": [
    "# Building the Deep Learning Model (FCN)"
   ]
  },
  {
   "cell_type": "code",
   "execution_count": 19,
   "id": "74f05c19",
   "metadata": {},
   "outputs": [],
   "source": [
    "from tensorflow.keras.models import Sequential\n",
    "from tensorflow.keras.layers import Dense, Dropout\n",
    "from tensorflow.keras import regularizers\n",
    "\n",
    "def create_model(input_dim):\n",
    "    model = Sequential([\n",
    "        Dense(64, input_dim=input_dim, activation='relu', kernel_regularizer=regularizers.l2(0.01)),\n",
    "        Dropout(0.3),\n",
    "        Dense(32, activation='relu', kernel_regularizer=regularizers.l2(0.01)),\n",
    "        Dropout(0.3),\n",
    "        Dense(1, activation='sigmoid')  # Binary classification\n",
    "    ])\n",
    "    model.compile(optimizer='adam', loss='binary_crossentropy', metrics=['accuracy'])\n",
    "    return model\n"
   ]
  },
  {
   "cell_type": "markdown",
   "id": "8c78baf7",
   "metadata": {},
   "source": [
    "# Train and Evaluate the Model"
   ]
  },
  {
   "cell_type": "code",
   "execution_count": 20,
   "id": "b33ab34d",
   "metadata": {},
   "outputs": [
    {
     "name": "stdout",
     "output_type": "stream",
     "text": [
      "Epoch 1/100\n",
      "23/23 [==============================] - 1s 15ms/step - loss: 1.2161 - accuracy: 0.5559 - val_loss: 1.0922 - val_accuracy: 0.7663\n",
      "Epoch 2/100\n",
      "23/23 [==============================] - 0s 5ms/step - loss: 1.0209 - accuracy: 0.7425 - val_loss: 0.9504 - val_accuracy: 0.7880\n",
      "Epoch 3/100\n",
      "23/23 [==============================] - 0s 6ms/step - loss: 0.9123 - accuracy: 0.7834 - val_loss: 0.8597 - val_accuracy: 0.8098\n",
      "Epoch 4/100\n",
      "23/23 [==============================] - 0s 5ms/step - loss: 0.8198 - accuracy: 0.8215 - val_loss: 0.7977 - val_accuracy: 0.8152\n",
      "Epoch 5/100\n",
      "23/23 [==============================] - 0s 5ms/step - loss: 0.7540 - accuracy: 0.8256 - val_loss: 0.7503 - val_accuracy: 0.8098\n",
      "Epoch 6/100\n",
      "23/23 [==============================] - 0s 4ms/step - loss: 0.7160 - accuracy: 0.8311 - val_loss: 0.7071 - val_accuracy: 0.8098\n",
      "Epoch 7/100\n",
      "23/23 [==============================] - 0s 4ms/step - loss: 0.6852 - accuracy: 0.8365 - val_loss: 0.6758 - val_accuracy: 0.8152\n",
      "Epoch 8/100\n",
      "23/23 [==============================] - 0s 4ms/step - loss: 0.6429 - accuracy: 0.8433 - val_loss: 0.6457 - val_accuracy: 0.8315\n",
      "Epoch 9/100\n",
      "23/23 [==============================] - 0s 4ms/step - loss: 0.6129 - accuracy: 0.8501 - val_loss: 0.6298 - val_accuracy: 0.8207\n",
      "Epoch 10/100\n",
      "23/23 [==============================] - 0s 5ms/step - loss: 0.6055 - accuracy: 0.8392 - val_loss: 0.6042 - val_accuracy: 0.8261\n",
      "Epoch 11/100\n",
      "23/23 [==============================] - 0s 4ms/step - loss: 0.5728 - accuracy: 0.8379 - val_loss: 0.5813 - val_accuracy: 0.8370\n",
      "Epoch 12/100\n",
      "23/23 [==============================] - 0s 5ms/step - loss: 0.5508 - accuracy: 0.8447 - val_loss: 0.5651 - val_accuracy: 0.8370\n",
      "Epoch 13/100\n",
      "23/23 [==============================] - 0s 5ms/step - loss: 0.5417 - accuracy: 0.8392 - val_loss: 0.5519 - val_accuracy: 0.8315\n",
      "Epoch 14/100\n",
      "23/23 [==============================] - 0s 5ms/step - loss: 0.5171 - accuracy: 0.8542 - val_loss: 0.5369 - val_accuracy: 0.8315\n",
      "Epoch 15/100\n",
      "23/23 [==============================] - 0s 4ms/step - loss: 0.4981 - accuracy: 0.8515 - val_loss: 0.5228 - val_accuracy: 0.8370\n",
      "Epoch 16/100\n",
      "23/23 [==============================] - 0s 4ms/step - loss: 0.4950 - accuracy: 0.8529 - val_loss: 0.5203 - val_accuracy: 0.8315\n",
      "Epoch 17/100\n",
      "23/23 [==============================] - 0s 4ms/step - loss: 0.4921 - accuracy: 0.8542 - val_loss: 0.5159 - val_accuracy: 0.8315\n",
      "Epoch 18/100\n",
      "23/23 [==============================] - 0s 5ms/step - loss: 0.4811 - accuracy: 0.8597 - val_loss: 0.5022 - val_accuracy: 0.8315\n",
      "Epoch 19/100\n",
      "23/23 [==============================] - 0s 4ms/step - loss: 0.4696 - accuracy: 0.8501 - val_loss: 0.5001 - val_accuracy: 0.8315\n",
      "Epoch 20/100\n",
      "23/23 [==============================] - 0s 5ms/step - loss: 0.4588 - accuracy: 0.8597 - val_loss: 0.4851 - val_accuracy: 0.8315\n",
      "Epoch 21/100\n",
      "23/23 [==============================] - 0s 4ms/step - loss: 0.4565 - accuracy: 0.8569 - val_loss: 0.4921 - val_accuracy: 0.8370\n",
      "Epoch 22/100\n",
      "23/23 [==============================] - 0s 4ms/step - loss: 0.4503 - accuracy: 0.8651 - val_loss: 0.4796 - val_accuracy: 0.8370\n",
      "Epoch 23/100\n",
      "23/23 [==============================] - 0s 4ms/step - loss: 0.4505 - accuracy: 0.8569 - val_loss: 0.4792 - val_accuracy: 0.8424\n",
      "Epoch 24/100\n",
      "23/23 [==============================] - 0s 4ms/step - loss: 0.4470 - accuracy: 0.8597 - val_loss: 0.4665 - val_accuracy: 0.8315\n",
      "Epoch 25/100\n",
      "23/23 [==============================] - 0s 4ms/step - loss: 0.4364 - accuracy: 0.8542 - val_loss: 0.4593 - val_accuracy: 0.8424\n",
      "Epoch 26/100\n",
      "23/23 [==============================] - 0s 4ms/step - loss: 0.4241 - accuracy: 0.8556 - val_loss: 0.4598 - val_accuracy: 0.8370\n",
      "Epoch 27/100\n",
      "23/23 [==============================] - 0s 5ms/step - loss: 0.4417 - accuracy: 0.8488 - val_loss: 0.4592 - val_accuracy: 0.8370\n",
      "Epoch 28/100\n",
      "23/23 [==============================] - 0s 6ms/step - loss: 0.4266 - accuracy: 0.8474 - val_loss: 0.4634 - val_accuracy: 0.8315\n",
      "Epoch 29/100\n",
      "23/23 [==============================] - 0s 4ms/step - loss: 0.4194 - accuracy: 0.8529 - val_loss: 0.4596 - val_accuracy: 0.8370\n",
      "Epoch 30/100\n",
      "23/23 [==============================] - 0s 4ms/step - loss: 0.4277 - accuracy: 0.8529 - val_loss: 0.4473 - val_accuracy: 0.8370\n",
      "Epoch 31/100\n",
      "23/23 [==============================] - 0s 4ms/step - loss: 0.4180 - accuracy: 0.8610 - val_loss: 0.4547 - val_accuracy: 0.8370\n",
      "Epoch 32/100\n",
      "23/23 [==============================] - 0s 5ms/step - loss: 0.4179 - accuracy: 0.8569 - val_loss: 0.4461 - val_accuracy: 0.8315\n",
      "Epoch 33/100\n",
      "23/23 [==============================] - 0s 4ms/step - loss: 0.4244 - accuracy: 0.8651 - val_loss: 0.4464 - val_accuracy: 0.8424\n",
      "Epoch 34/100\n",
      "23/23 [==============================] - 0s 4ms/step - loss: 0.4164 - accuracy: 0.8597 - val_loss: 0.4500 - val_accuracy: 0.8315\n",
      "Epoch 35/100\n",
      "23/23 [==============================] - 0s 4ms/step - loss: 0.4153 - accuracy: 0.8542 - val_loss: 0.4433 - val_accuracy: 0.8370\n",
      "Epoch 36/100\n",
      "23/23 [==============================] - 0s 4ms/step - loss: 0.4209 - accuracy: 0.8597 - val_loss: 0.4351 - val_accuracy: 0.8424\n",
      "Epoch 37/100\n",
      "23/23 [==============================] - 0s 4ms/step - loss: 0.4139 - accuracy: 0.8556 - val_loss: 0.4483 - val_accuracy: 0.8315\n",
      "Epoch 38/100\n",
      "23/23 [==============================] - 0s 4ms/step - loss: 0.3985 - accuracy: 0.8624 - val_loss: 0.4449 - val_accuracy: 0.8370\n",
      "Epoch 39/100\n",
      "23/23 [==============================] - 0s 5ms/step - loss: 0.4061 - accuracy: 0.8610 - val_loss: 0.4409 - val_accuracy: 0.8315\n",
      "Epoch 40/100\n",
      "23/23 [==============================] - 0s 3ms/step - loss: 0.4054 - accuracy: 0.8556 - val_loss: 0.4360 - val_accuracy: 0.8370\n",
      "Epoch 41/100\n",
      "23/23 [==============================] - 0s 4ms/step - loss: 0.3968 - accuracy: 0.8529 - val_loss: 0.4433 - val_accuracy: 0.8315\n"
     ]
    }
   ],
   "source": [
    "from tensorflow.keras.callbacks import EarlyStopping\n",
    "from sklearn.metrics import accuracy_score, confusion_matrix, classification_report\n",
    "\n",
    "# Initialize model\n",
    "model = create_model(X_train.shape[1])\n",
    "\n",
    "# Early stopping callback\n",
    "early_stopping = EarlyStopping(monitor='val_loss', patience=5, restore_best_weights=True)\n",
    "\n",
    "# Train model\n",
    "history = model.fit(X_train, y_train, epochs=100, batch_size=32, \n",
    "                    validation_data=(X_test, y_test), callbacks=[early_stopping])\n",
    "\n"
   ]
  },
  {
   "cell_type": "code",
   "execution_count": 21,
   "id": "2dc96aeb",
   "metadata": {},
   "outputs": [
    {
     "name": "stdout",
     "output_type": "stream",
     "text": [
      "6/6 [==============================] - 0s 2ms/step - loss: 0.4351 - accuracy: 0.8424\n",
      "Test Loss: 0.4351\n",
      "Test Accuracy: 0.8424\n"
     ]
    }
   ],
   "source": [
    "# Evaluate on the test data\n",
    "test_loss, test_accuracy = model.evaluate(X_test, y_test)\n",
    "print(f\"Test Loss: {test_loss:.4f}\")\n",
    "print(f\"Test Accuracy: {test_accuracy:.4f}\")"
   ]
  },
  {
   "cell_type": "code",
   "execution_count": 22,
   "id": "b0faeda5",
   "metadata": {},
   "outputs": [
    {
     "data": {
      "image/png": "[encoded data removed]",
      "text/plain": [
       "<Figure size 864x432 with 2 Axes>"
      ]
     },
     "metadata": {
      "needs_background": "light"
     },
     "output_type": "display_data"
    }
   ],
   "source": [
    "# Plot learning curves\n",
    "plt.figure(figsize=(12, 6))\n",
    "\n",
    "# Accuracy plot\n",
    "plt.subplot(1, 2, 1)\n",
    "plt.plot(history.history['accuracy'], label='Train Accuracy')\n",
    "plt.plot(history.history['val_accuracy'], label='Validation Accuracy')\n",
    "plt.title('Train vs Validation Accuracy')\n",
    "plt.xlabel('Epochs')\n",
    "plt.ylabel('Accuracy')\n",
    "plt.legend()\n",
    "\n",
    "# Loss plot\n",
    "plt.subplot(1, 2, 2)\n",
    "plt.plot(history.history['loss'], label='Train Loss')\n",
    "plt.plot(history.history['val_loss'], label='Validation Loss')\n",
    "plt.title('Train vs Validation Loss')\n",
    "plt.xlabel('Epochs')\n",
    "plt.ylabel('Loss')\n",
    "plt.legend()\n",
    "\n",
    "plt.tight_layout()\n",
    "plt.show()\n"
   ]
  },
  {
   "cell_type": "markdown",
   "id": "dddc3cdb",
   "metadata": {},
   "source": [
    "# Hyperparameter Tuning"
   ]
  },
  {
   "cell_type": "code",
   "execution_count": 23,
   "id": "0e25f9ab",
   "metadata": {},
   "outputs": [
    {
     "name": "stderr",
     "output_type": "stream",
     "text": [
      "C:\\Users\\rishi\\AppData\\Local\\Temp\\ipykernel_13232\\4100799326.py:16: DeprecationWarning: KerasClassifier is deprecated, use Sci-Keras (https://github.com/adriangb/scikeras) instead. See https://www.adriangb.com/scikeras/stable/migration.html for help migrating.\n",
      "  model = KerasClassifier(build_fn=hyperparameter_model, verbose=0)\n"
     ]
    },
    {
     "name": "stdout",
     "output_type": "stream",
     "text": [
      "Fitting 3 folds for each of 72 candidates, totalling 216 fits\n",
      "8/8 [==============================] - 0s 2ms/step\n",
      "8/8 [==============================] - 0s 301us/step\n",
      "8/8 [==============================] - 0s 2ms/step\n",
      "8/8 [==============================] - 0s 3ms/step\n",
      "8/8 [==============================] - 0s 3ms/step\n",
      "8/8 [==============================] - 0s 4ms/step\n",
      "8/8 [==============================] - 0s 2ms/step\n",
      "8/8 [==============================] - 0s 2ms/step\n",
      "8/8 [==============================] - 0s 3ms/step\n",
      "8/8 [==============================] - 0s 2ms/step\n",
      "8/8 [==============================] - 0s 3ms/step\n",
      "8/8 [==============================] - 0s 1ms/step\n",
      "8/8 [==============================] - 0s 2ms/step\n",
      "8/8 [==============================] - 0s 2ms/step\n",
      "8/8 [==============================] - 0s 2ms/step\n",
      "8/8 [==============================] - 0s 2ms/step\n",
      "8/8 [==============================] - 0s 2ms/step\n",
      "8/8 [==============================] - 0s 4ms/step\n",
      "8/8 [==============================] - 0s 2ms/step\n",
      "8/8 [==============================] - 0s 3ms/step\n",
      "8/8 [==============================] - 0s 3ms/step\n",
      "8/8 [==============================] - 0s 3ms/step\n",
      "8/8 [==============================] - 0s 4ms/step\n",
      "8/8 [==============================] - 0s 0s/step\n",
      "8/8 [==============================] - 0s 2ms/step\n",
      "8/8 [==============================] - 0s 4ms/step\n",
      "8/8 [==============================] - 0s 3ms/step\n",
      "8/8 [==============================] - 0s 4ms/step\n",
      "8/8 [==============================] - 0s 2ms/step\n",
      "8/8 [==============================] - 0s 2ms/step\n",
      "8/8 [==============================] - 0s 4ms/step\n",
      "8/8 [==============================] - 0s 3ms/step\n",
      "8/8 [==============================] - 0s 2ms/step\n",
      "8/8 [==============================] - 0s 4ms/step\n",
      "8/8 [==============================] - 0s 1ms/step\n",
      "8/8 [==============================] - 0s 5ms/step\n",
      "8/8 [==============================] - 0s 2ms/step\n",
      "8/8 [==============================] - 0s 0s/step\n",
      "8/8 [==============================] - 0s 2ms/step\n",
      "8/8 [==============================] - 0s 2ms/step\n",
      "8/8 [==============================] - 0s 5ms/step\n",
      "8/8 [==============================] - 0s 5ms/step\n",
      "8/8 [==============================] - 0s 2ms/step\n",
      "8/8 [==============================] - 0s 4ms/step\n",
      "8/8 [==============================] - 0s 2ms/step\n",
      "8/8 [==============================] - 0s 0s/step\n",
      "8/8 [==============================] - 0s 3ms/step\n",
      "8/8 [==============================] - 0s 5ms/step\n",
      "8/8 [==============================] - 0s 2ms/step\n",
      "8/8 [==============================] - 0s 2ms/step\n",
      "8/8 [==============================] - 0s 4ms/step\n",
      "8/8 [==============================] - 0s 689us/step\n",
      "8/8 [==============================] - 0s 724us/step\n",
      "8/8 [==============================] - 0s 2ms/step\n",
      "8/8 [==============================] - 0s 3ms/step\n",
      "8/8 [==============================] - 0s 1ms/step\n",
      "8/8 [==============================] - 0s 2ms/step\n",
      "8/8 [==============================] - 0s 2ms/step\n",
      "8/8 [==============================] - 0s 939us/step\n",
      "8/8 [==============================] - 0s 722us/step\n",
      "8/8 [==============================] - 0s 2ms/step\n",
      "8/8 [==============================] - 0s 2ms/step\n",
      "8/8 [==============================] - 0s 3ms/step\n",
      "8/8 [==============================] - 0s 779us/step\n",
      "8/8 [==============================] - 0s 1ms/step\n",
      "8/8 [==============================] - 0s 1ms/step\n",
      "8/8 [==============================] - 0s 2ms/step\n",
      "8/8 [==============================] - 0s 1ms/step\n",
      "8/8 [==============================] - 0s 2ms/step\n",
      "8/8 [==============================] - 0s 2ms/step\n",
      "8/8 [==============================] - 0s 989us/step\n",
      "8/8 [==============================] - 0s 1ms/step\n",
      "8/8 [==============================] - 0s 2ms/step\n",
      "8/8 [==============================] - 0s 1ms/step\n",
      "8/8 [==============================] - 0s 2ms/step\n",
      "8/8 [==============================] - 0s 1ms/step\n",
      "8/8 [==============================] - 0s 3ms/step\n",
      "8/8 [==============================] - 0s 2ms/step\n",
      "8/8 [==============================] - 0s 1ms/step\n",
      "8/8 [==============================] - 0s 2ms/step\n",
      "8/8 [==============================] - 0s 1ms/step\n",
      "8/8 [==============================] - 0s 1ms/step\n",
      "8/8 [==============================] - 0s 1ms/step\n",
      "8/8 [==============================] - 0s 2ms/step\n",
      "8/8 [==============================] - 0s 3ms/step\n",
      "8/8 [==============================] - 0s 2ms/step\n",
      "8/8 [==============================] - 0s 1ms/step\n",
      "8/8 [==============================] - 0s 2ms/step\n",
      "8/8 [==============================] - 0s 2ms/step\n",
      "8/8 [==============================] - 0s 2ms/step\n",
      "8/8 [==============================] - 0s 2ms/step\n",
      "8/8 [==============================] - 0s 2ms/step\n",
      "8/8 [==============================] - 0s 2ms/step\n",
      "8/8 [==============================] - 0s 2ms/step\n",
      "8/8 [==============================] - 0s 1ms/step\n",
      "8/8 [==============================] - 0s 2ms/step\n",
      "8/8 [==============================] - 0s 3ms/step\n",
      "8/8 [==============================] - 0s 2ms/step\n",
      "8/8 [==============================] - 0s 1ms/step\n",
      "8/8 [==============================] - 0s 2ms/step\n",
      "8/8 [==============================] - 0s 2ms/step\n",
      "8/8 [==============================] - 0s 2ms/step\n",
      "8/8 [==============================] - 0s 2ms/step\n",
      "8/8 [==============================] - 0s 2ms/step\n",
      "8/8 [==============================] - 0s 3ms/step\n",
      "8/8 [==============================] - 0s 2ms/step\n",
      "8/8 [==============================] - 0s 1ms/step\n",
      "8/8 [==============================] - 0s 2ms/step\n",
      "8/8 [==============================] - 0s 2ms/step\n",
      "8/8 [==============================] - 0s 1ms/step\n",
      "8/8 [==============================] - 0s 2ms/step\n",
      "8/8 [==============================] - 0s 2ms/step\n",
      "8/8 [==============================] - 0s 997us/step\n",
      "8/8 [==============================] - 0s 2ms/step\n",
      "8/8 [==============================] - 0s 2ms/step\n",
      "8/8 [==============================] - 0s 1ms/step\n",
      "8/8 [==============================] - 0s 11ms/step\n",
      "8/8 [==============================] - 0s 2ms/step\n",
      "8/8 [==============================] - 0s 1ms/step\n",
      "8/8 [==============================] - 0s 2ms/step\n",
      "8/8 [==============================] - 0s 2ms/step\n",
      "8/8 [==============================] - 0s 2ms/step\n",
      "8/8 [==============================] - 0s 3ms/step\n",
      "8/8 [==============================] - 0s 1ms/step\n",
      "8/8 [==============================] - 0s 1ms/step\n",
      "8/8 [==============================] - 0s 3ms/step\n",
      "8/8 [==============================] - 0s 2ms/step\n",
      "8/8 [==============================] - 0s 1ms/step\n",
      "8/8 [==============================] - 0s 2ms/step\n",
      "8/8 [==============================] - 0s 2ms/step\n",
      "8/8 [==============================] - 0s 2ms/step\n",
      "8/8 [==============================] - 0s 2ms/step\n",
      "8/8 [==============================] - 0s 1ms/step\n",
      "8/8 [==============================] - 0s 2ms/step\n",
      "8/8 [==============================] - 0s 1ms/step\n",
      "8/8 [==============================] - 0s 1ms/step\n",
      "8/8 [==============================] - 0s 798us/step\n",
      "8/8 [==============================] - 0s 2ms/step\n",
      "8/8 [==============================] - 0s 2ms/step\n",
      "8/8 [==============================] - 0s 3ms/step\n",
      "8/8 [==============================] - 0s 2ms/step\n",
      "8/8 [==============================] - 0s 2ms/step\n",
      "8/8 [==============================] - 0s 2ms/step\n",
      "8/8 [==============================] - 0s 3ms/step\n",
      "8/8 [==============================] - 0s 2ms/step\n",
      "8/8 [==============================] - 0s 2ms/step\n",
      "8/8 [==============================] - 0s 2ms/step\n",
      "8/8 [==============================] - 0s 2ms/step\n",
      "8/8 [==============================] - 0s 4ms/step\n",
      "8/8 [==============================] - 0s 2ms/step\n",
      "8/8 [==============================] - 0s 2ms/step\n",
      "8/8 [==============================] - 0s 2ms/step\n",
      "8/8 [==============================] - 0s 3ms/step\n",
      "8/8 [==============================] - 0s 1ms/step\n",
      "8/8 [==============================] - 0s 2ms/step\n",
      "8/8 [==============================] - 0s 2ms/step\n",
      "8/8 [==============================] - 0s 4ms/step\n",
      "8/8 [==============================] - 0s 0s/step\n",
      "8/8 [==============================] - 0s 2ms/step\n",
      "8/8 [==============================] - 0s 4ms/step\n",
      "8/8 [==============================] - 0s 2ms/step\n",
      "8/8 [==============================] - 0s 5ms/step\n",
      "8/8 [==============================] - 0s 3ms/step\n",
      "8/8 [==============================] - 0s 2ms/step\n",
      "8/8 [==============================] - 0s 1ms/step\n",
      "8/8 [==============================] - 0s 2ms/step\n",
      "8/8 [==============================] - 0s 2ms/step\n",
      "8/8 [==============================] - 0s 2ms/step\n",
      "8/8 [==============================] - 0s 4ms/step\n",
      "8/8 [==============================] - 0s 3ms/step\n",
      "8/8 [==============================] - 0s 3ms/step\n",
      "8/8 [==============================] - 0s 2ms/step\n",
      "8/8 [==============================] - 0s 2ms/step\n",
      "8/8 [==============================] - 0s 3ms/step\n",
      "8/8 [==============================] - 0s 3ms/step\n",
      "8/8 [==============================] - 0s 4ms/step\n",
      "8/8 [==============================] - 0s 3ms/step\n",
      "8/8 [==============================] - 0s 2ms/step\n",
      "8/8 [==============================] - 0s 2ms/step\n",
      "8/8 [==============================] - 0s 3ms/step\n",
      "8/8 [==============================] - 0s 3ms/step\n",
      "8/8 [==============================] - 0s 2ms/step\n",
      "8/8 [==============================] - 0s 4ms/step\n",
      "8/8 [==============================] - 0s 4ms/step\n",
      "8/8 [==============================] - 0s 2ms/step\n",
      "8/8 [==============================] - 0s 3ms/step\n",
      "8/8 [==============================] - 0s 2ms/step\n",
      "8/8 [==============================] - 0s 1ms/step\n",
      "8/8 [==============================] - 0s 2ms/step\n",
      "8/8 [==============================] - 0s 2ms/step\n",
      "8/8 [==============================] - 0s 2ms/step\n",
      "8/8 [==============================] - 0s 1ms/step\n",
      "8/8 [==============================] - 0s 2ms/step\n",
      "8/8 [==============================] - 0s 2ms/step\n",
      "8/8 [==============================] - 0s 3ms/step\n",
      "8/8 [==============================] - 0s 2ms/step\n",
      "8/8 [==============================] - 0s 1ms/step\n",
      "8/8 [==============================] - 0s 1ms/step\n",
      "8/8 [==============================] - 0s 2ms/step\n",
      "8/8 [==============================] - 0s 3ms/step\n",
      "8/8 [==============================] - 0s 2ms/step\n",
      "8/8 [==============================] - 0s 2ms/step\n",
      "8/8 [==============================] - 0s 2ms/step\n",
      "8/8 [==============================] - 0s 2ms/step\n",
      "8/8 [==============================] - 0s 2ms/step\n",
      "8/8 [==============================] - 0s 3ms/step\n",
      "8/8 [==============================] - 0s 1ms/step\n",
      "8/8 [==============================] - 0s 2ms/step\n",
      "8/8 [==============================] - 0s 2ms/step\n",
      "8/8 [==============================] - 0s 1ms/step\n",
      "8/8 [==============================] - 0s 2ms/step\n",
      "8/8 [==============================] - 0s 2ms/step\n",
      "8/8 [==============================] - 0s 2ms/step\n",
      "8/8 [==============================] - 0s 3ms/step\n",
      "8/8 [==============================] - 0s 2ms/step\n",
      "8/8 [==============================] - 0s 2ms/step\n",
      "Best Parameters: {'batch_size': 16, 'dropout_rate': 0.0, 'epochs': 20, 'optimizer': 'adam', 'units': 64}\n",
      "Best Cross-Validation Accuracy: 0.8610293297646928\n"
     ]
    }
   ],
   "source": [
    "from tensorflow.keras.wrappers.scikit_learn import KerasClassifier\n",
    "from sklearn.model_selection import GridSearchCV\n",
    "\n",
    "def hyperparameter_model(optimizer='adam', units=64, dropout_rate=0.0):\n",
    "    model = Sequential([\n",
    "        Dense(units=units, activation='relu', input_shape=(X_train.shape[1],)),\n",
    "        Dropout(dropout_rate),\n",
    "        Dense(units=units, activation='relu'),\n",
    "        Dropout(dropout_rate),\n",
    "        Dense(1, activation='sigmoid')\n",
    "    ])\n",
    "    model.compile(optimizer=optimizer, loss='binary_crossentropy', metrics=['accuracy'])\n",
    "    return model\n",
    "\n",
    "# Wrap with KerasClassifier\n",
    "model = KerasClassifier(build_fn=hyperparameter_model, verbose=0)\n",
    "\n",
    "# Define hyperparameter grid\n",
    "param_grid = {\n",
    "    'units': [32, 64, 128],\n",
    "    'dropout_rate': [0.0, 0.2, 0.5],\n",
    "    'optimizer': ['adam', 'rmsprop'],\n",
    "    'epochs': [10, 20],\n",
    "    'batch_size': [16, 32]\n",
    "}\n",
    "\n",
    "# GridSearchCV\n",
    "grid = GridSearchCV(estimator=model, param_grid=param_grid, cv=3, scoring='accuracy', verbose=1)\n",
    "grid_result = grid.fit(X_train, y_train)\n",
    "\n",
    "# Best hyperparameters\n",
    "print(f\"Best Parameters: {grid_result.best_params_}\")\n",
    "print(f\"Best Cross-Validation Accuracy: {grid_result.best_score_}\")\n"
   ]
  },
  {
   "cell_type": "markdown",
   "id": "fcf84561",
   "metadata": {},
   "source": [
    "# Train the Final Model with Best Hyperparameters"
   ]
  },
  {
   "cell_type": "code",
   "execution_count": 24,
   "id": "264df62f",
   "metadata": {},
   "outputs": [
    {
     "name": "stdout",
     "output_type": "stream",
     "text": [
      "Epoch 1/20\n",
      "46/46 [==============================] - 1s 7ms/step - loss: 0.5172 - accuracy: 0.7629 - val_loss: 0.4609 - val_accuracy: 0.7772\n",
      "Epoch 2/20\n",
      "46/46 [==============================] - 0s 3ms/step - loss: 0.3846 - accuracy: 0.8542 - val_loss: 0.4258 - val_accuracy: 0.7935\n",
      "Epoch 3/20\n",
      "46/46 [==============================] - 0s 3ms/step - loss: 0.3572 - accuracy: 0.8651 - val_loss: 0.3965 - val_accuracy: 0.8207\n",
      "Epoch 4/20\n",
      "46/46 [==============================] - 0s 3ms/step - loss: 0.3474 - accuracy: 0.8678 - val_loss: 0.4096 - val_accuracy: 0.8152\n",
      "Epoch 5/20\n",
      "46/46 [==============================] - 0s 3ms/step - loss: 0.3475 - accuracy: 0.8583 - val_loss: 0.4033 - val_accuracy: 0.8207\n",
      "Epoch 6/20\n",
      "46/46 [==============================] - 0s 3ms/step - loss: 0.3361 - accuracy: 0.8610 - val_loss: 0.3772 - val_accuracy: 0.8261\n",
      "Epoch 7/20\n",
      "46/46 [==============================] - 0s 4ms/step - loss: 0.3257 - accuracy: 0.8624 - val_loss: 0.3607 - val_accuracy: 0.8478\n",
      "Epoch 8/20\n",
      "46/46 [==============================] - 0s 3ms/step - loss: 0.3248 - accuracy: 0.8678 - val_loss: 0.3616 - val_accuracy: 0.8641\n",
      "Epoch 9/20\n",
      "46/46 [==============================] - 0s 5ms/step - loss: 0.3162 - accuracy: 0.8733 - val_loss: 0.3584 - val_accuracy: 0.8478\n",
      "Epoch 10/20\n",
      "46/46 [==============================] - 0s 4ms/step - loss: 0.3163 - accuracy: 0.8719 - val_loss: 0.3496 - val_accuracy: 0.8533\n",
      "Epoch 11/20\n",
      "46/46 [==============================] - 0s 4ms/step - loss: 0.3117 - accuracy: 0.8787 - val_loss: 0.3577 - val_accuracy: 0.8478\n",
      "Epoch 12/20\n",
      "46/46 [==============================] - 0s 3ms/step - loss: 0.3093 - accuracy: 0.8706 - val_loss: 0.3334 - val_accuracy: 0.8533\n",
      "Epoch 13/20\n",
      "46/46 [==============================] - 0s 3ms/step - loss: 0.3117 - accuracy: 0.8760 - val_loss: 0.3368 - val_accuracy: 0.8424\n",
      "Epoch 14/20\n",
      "46/46 [==============================] - 0s 3ms/step - loss: 0.3049 - accuracy: 0.8760 - val_loss: 0.3668 - val_accuracy: 0.8478\n",
      "Epoch 15/20\n",
      "46/46 [==============================] - 0s 5ms/step - loss: 0.3022 - accuracy: 0.8760 - val_loss: 0.3493 - val_accuracy: 0.8533\n",
      "Epoch 16/20\n",
      "46/46 [==============================] - 0s 3ms/step - loss: 0.3080 - accuracy: 0.8678 - val_loss: 0.3461 - val_accuracy: 0.8587\n",
      "Epoch 17/20\n",
      "46/46 [==============================] - 0s 3ms/step - loss: 0.2986 - accuracy: 0.8733 - val_loss: 0.3495 - val_accuracy: 0.8533\n",
      "Epoch 18/20\n",
      "46/46 [==============================] - 0s 3ms/step - loss: 0.2970 - accuracy: 0.8787 - val_loss: 0.3339 - val_accuracy: 0.8478\n",
      "Epoch 19/20\n",
      "46/46 [==============================] - 0s 3ms/step - loss: 0.2928 - accuracy: 0.8733 - val_loss: 0.3280 - val_accuracy: 0.8587\n",
      "Epoch 20/20\n",
      "46/46 [==============================] - 0s 3ms/step - loss: 0.2911 - accuracy: 0.8747 - val_loss: 0.3245 - val_accuracy: 0.8696\n"
     ]
    }
   ],
   "source": [
    "# Train final model with optimal hyperparameters\n",
    "final_model = hyperparameter_model(\n",
    "    optimizer=grid_result.best_params_['optimizer'],\n",
    "    units=grid_result.best_params_['units'],\n",
    "    dropout_rate=grid_result.best_params_['dropout_rate']\n",
    ")\n",
    "\n",
    "# Train final model with optimal parameters\n",
    "history = final_model.fit(X_train, y_train, epochs=grid_result.best_params_['epochs'],\n",
    "                          batch_size=grid_result.best_params_['batch_size'], validation_data=(X_test, y_test))"
   ]
  },
  {
   "cell_type": "code",
   "execution_count": 25,
   "id": "a9c41e15",
   "metadata": {},
   "outputs": [
    {
     "name": "stdout",
     "output_type": "stream",
     "text": [
      "6/6 [==============================] - 0s 3ms/step\n",
      "\n",
      "Classification Report:\n",
      "              precision    recall  f1-score   support\n",
      "\n",
      "           0       0.82      0.88      0.85        77\n",
      "           1       0.91      0.86      0.88       107\n",
      "\n",
      "    accuracy                           0.87       184\n",
      "   macro avg       0.87      0.87      0.87       184\n",
      "weighted avg       0.87      0.87      0.87       184\n",
      "\n",
      "\n",
      "Confusion Matrix:\n",
      "[[68  9]\n",
      " [15 92]]\n"
     ]
    }
   ],
   "source": [
    "y_pred_prob = final_model.predict(X_test)\n",
    "y_pred = (y_pred_prob >= 0.5).astype(int)  \n",
    "\n",
    "print(\"\\nClassification Report:\")\n",
    "print(classification_report(y_test, y_pred))\n",
    "\n",
    "conf_matrix = confusion_matrix(y_test, y_pred)\n",
    "print(\"\\nConfusion Matrix:\")\n",
    "print(conf_matrix)"
   ]
  },
  {
   "cell_type": "code",
   "execution_count": 26,
   "id": "45be5448",
   "metadata": {},
   "outputs": [
    {
     "name": "stdout",
     "output_type": "stream",
     "text": [
      "6/6 [==============================] - 0s 3ms/step - loss: 0.3245 - accuracy: 0.8696\n",
      "Final Test Loss: 0.3245\n",
      "Final Test Accuracy: 0.8696\n"
     ]
    }
   ],
   "source": [
    "# Final Test Evaluation\n",
    "test_loss, test_accuracy = final_model.evaluate(X_test, y_test)\n",
    "print(f\"Final Test Loss: {test_loss:.4f}\")\n",
    "print(f\"Final Test Accuracy: {test_accuracy:.4f}\")"
   ]
  },
  {
   "cell_type": "markdown",
   "id": "c417a991",
   "metadata": {},
   "source": [
    "# Save and Load the Model"
   ]
  },
  {
   "cell_type": "code",
   "execution_count": 27,
   "id": "a29bd4d9",
   "metadata": {},
   "outputs": [],
   "source": [
    "final_model.save('heart_attack.h5')"
   ]
  },
  {
   "cell_type": "code",
   "execution_count": 28,
   "id": "28e43c7a",
   "metadata": {},
   "outputs": [
    {
     "data": {
      "text/plain": [
       "['feature_selector.pkl']"
      ]
     },
     "execution_count": 28,
     "metadata": {},
     "output_type": "execute_result"
    }
   ],
   "source": [
    "import joblib\n",
    "# Save preprocessor and selector\n",
    "joblib.dump(updated_preprocessor, 'updated_preprocessing_pipeline.pkl')\n",
    "joblib.dump(selector, 'feature_selector.pkl')"
   ]
  },
  {
   "cell_type": "code",
   "execution_count": 29,
   "id": "0b1aea75",
   "metadata": {},
   "outputs": [],
   "source": [
    "import json\n",
    "\n",
    "# Assuming selected_feature_names is already a list\n",
    "columns = {'data_columns': selected_feature_names}\n",
    "\n",
    "# Save to columns.json\n",
    "with open(\"columns.json\", \"w\") as f:\n",
    "    json.dump(columns, f)\n"
   ]
  },
  {
   "cell_type": "markdown",
   "id": "b6a7cc72",
   "metadata": {},
   "source": [
    "# Load and Test the Model"
   ]
  },
  {
   "cell_type": "code",
   "execution_count": 30,
   "id": "a66d1e5d",
   "metadata": {},
   "outputs": [
    {
     "name": "stdout",
     "output_type": "stream",
     "text": [
      "6/6 [==============================] - 0s 4ms/step - loss: 0.3245 - accuracy: 0.8696\n",
      "Loaded Model Test Accuracy: 0.8696\n"
     ]
    }
   ],
   "source": [
    "# Load the saved model and preprocessing pipeline\n",
    "from tensorflow.keras.models import load_model\n",
    "\n",
    "# Load the model\n",
    "loaded_model = load_model('heart_attack.h5')\n",
    "\n",
    "# Load preprocessing pipeline\n",
    "loaded_preprocessor = joblib.load('updated_preprocessing_pipeline.pkl')\n",
    "loaded_selector = joblib.load('feature_selector.pkl')\n",
    "\n",
    "# Test the loaded model on the test data\n",
    "loaded_model_loss, loaded_model_accuracy = loaded_model.evaluate(X_test, y_test)\n",
    "print(f\"Loaded Model Test Accuracy: {loaded_model_accuracy:.4f}\")\n"
   ]
  },
  {
   "cell_type": "code",
   "execution_count": null,
   "id": "3b3407ea",
   "metadata": {},
   "outputs": [],
   "source": []
  }
 ],
 "metadata": {
  "kernelspec": {
   "display_name": "Python 3 (ipykernel)",
   "language": "python",
   "name": "python3"
  },
  "language_info": {
   "codemirror_mode": {
    "name": "ipython",
    "version": 3
   },
   "file_extension": ".py",
   "mimetype": "text/x-python",
   "name": "python",
   "nbconvert_exporter": "python",
   "pygments_lexer": "ipython3",
   "version": "3.9.12"
  }
 },
 "nbformat": 4,
 "nbformat_minor": 5
}
